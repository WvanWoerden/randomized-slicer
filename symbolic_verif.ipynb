{
 "cells": [
  {
   "cell_type": "code",
   "execution_count": 1,
   "metadata": {
    "collapsed": false
   },
   "outputs": [
   ],
   "source": [
    "var('k','a', 'b', 'c', 'd', 'u', 'v', 'm', 'n', 'x', 'y', 'z')\n",
    "p(x,y) = a - (a+x-y)^2/(4*x)\n",
    "logp(x,y) = -log(p(x,y))/2"
   ]
  },
  {
   "cell_type": "markdown",
   "metadata": {
    "collapsed": false
   },
   "source": [
    "# Lemma (Strict convexity)\n",
    "We check that the given partial derivatives in the Lemma are correct."
   ]
  },
  {
   "cell_type": "code",
   "execution_count": 2,
   "metadata": {
    "collapsed": false
   },
   "outputs": [
    {
     "name": "stdout",
     "output_type": "stream",
     "text": [
      "d2x2 logp correct: "
     ]
    },
    {
     "name": "stdout",
     "output_type": "stream",
     "text": [
      " True\n",
      "d2y2 logp correct:  True\n",
      "dydx logp correct:  True\n",
      "detH logp correct: "
     ]
    },
    {
     "name": "stdout",
     "output_type": "stream",
     "text": [
      " True\n"
     ]
    }
   ],
   "source": [
    "d2x2 = (8*x*p(x,y) + (4*a-2*(a+x-y))^2 - 16*p(x,y)^2)/(2*(4*x*p(x,y))^2)\n",
    "dydx = (-8*x*p(x,y)+(4*a-2*(a+x-y))*2*(a+x-y))/(2*(4*x*p(x,y))^2)\n",
    "d2y2 = (8*x*p(x,y) + 4*(a+x-y)^2)/(2*(4*x*p(x,y))^2)\n",
    "detH = (2*(a+x-y)^4*(4*a*x-(a+x-y)^2))/(1024*x^6*p(x,y)^4)\n",
    "print'd2x2 logp correct: ', (d2x2-logp.derivative(x).derivative(x)).is_zero()\n",
    "print 'd2y2 logp correct: ', (d2y2-logp.derivative(y).derivative(y)).is_zero()\n",
    "print 'dydx logp correct: ', (dydx-logp.derivative(x).derivative(y)).is_zero()\n",
    "print 'detH logp correct: ', (detH-d2x2*d2y2+dydx^2).is_zero()"
   ]
  },
  {
   "cell_type": "markdown",
   "metadata": {
    "collapsed": false
   },
   "source": [
    "# Definition (Explicit Constructions)\n",
    "We check that the explicit construction indeed satisfies the mentioned properties."
   ]
  },
  {
   "cell_type": "code",
   "execution_count": 3,
   "metadata": {
    "collapsed": false
   },
   "outputs": [
    {
     "name": "stdout",
     "output_type": "stream",
     "text": [
      "u correct:  True\n",
      "v correct: "
     ]
    },
    {
     "name": "stdout",
     "output_type": "stream",
     "text": [
      " True\n",
      "xx(m)==c:  True\n",
      "d/dy (logp(x,y)+logp(y,z)) (x=xx(k-1),y=xx(k),z=xx(k+1))(u=uu,v=vv)==0: "
     ]
    },
    {
     "name": "stdout",
     "output_type": "stream",
     "text": [
      " True\n"
     ]
    }
   ],
   "source": [
    "xx(k) = u*k^2 + v*k + b\n",
    "ly(x,y,z) = (logp(x,y) + logp(y,z))\n",
    "dlydy(x,y,z) = ly(x,y,z).derivative(y)\n",
    "sols = solve([dlydy(x=xx(k-1), y=xx(k), z=xx(k+1)) == 0, xx(m) == c], u,v)[0]\n",
    "uu = ((b+c-a)*m - sqrt((a*m^2-(b+c))^2+4*b*c*(m^2-1)))/(m^3-m)\n",
    "vv = ((a-2*b)*m^2+(b-c)+sqrt((a*m^2-(b+c))^2+4*b*c*(m^2-1))*m)/(m^3-m)\n",
    "print 'u correct: ', (sols[0].right()-uu).is_zero()\n",
    "print 'v correct: ', (sols[1].right()-vv).is_zero()\n",
    "print 'xx(m)==c: ', (xx(m)(u=uu,v=vv)-c).is_zero()\n",
    "print 'd/dy (logp(x,y)+logp(y,z)) (x=xx(k-1),y=xx(k),z=xx(k+1))(u=uu,v=vv)==0: ', dlydy(x=xx(k-1),y=xx(k),z=xx(k+1))(u=uu,v=vv).is_zero()"
   ]
  },
  {
   "cell_type": "markdown",
   "metadata": {
    "collapsed": false
   },
   "source": [
    "# Lemma (Valid Construction)\n",
    "We check that the explicit construction is valid for\n",
    "$$\\frac{b-c}{a} \\leq n < \\frac{1}{2} + \\frac{\\sqrt{(4b-a)^2 - 8(2b-a) c}}{2 \\, a}$$\n",
    "We first need to verify that $x_0 - x_1 > 0$. We do this by rewriting the problem to that of showing that a degree $3$ polynomial in $n$ with positive leading coefficient is negative. Our $n$ is between the second and third root and thus we can conclude."
   ]
  },
  {
   "cell_type": "code",
   "execution_count": 4,
   "metadata": {
    "collapsed": false
   },
   "outputs": [
    {
     "name": "stdout",
     "output_type": "stream",
     "text": [
      "We define C =  -(a - 2*b)*n + b - c , and D =  4*(n^2 - 1)*b*c + (a*n^2 - b - c)^2\n",
      "u == u_rewritten True\n",
      "x_0 - x_1 == (C-sqrt(D))/(n^2+n)"
     ]
    },
    {
     "name": "stdout",
     "output_type": "stream",
     "text": [
      " True\n",
      "x_0 - x_1 > 0 is equivalent to (D-C^2)/n < 0 (D-C^2)/n= "
     ]
    },
    {
     "name": "stdout",
     "output_type": "stream",
     "text": [
      "a^2*n^3 + 2*a*b - 4*b^2 - 2*(a - 2*b)*c - (a^2 - 2*a*b + 4*b^2 + 2*(a - 2*b)*c)*n\n",
      "Let E= 1/2*sqrt((a - 4*b)^2 + 8*(a - 2*b)*c)/a\n",
      "(D-C^2)/n has zeros n=1/2-E, n=-1, n=1/2+E (True, True, True)\n",
      "Because 1/2+E > n >= 2 we have n >= 2 > 1/2-E, so n is between the second and third root of (D-C^2)/n\n",
      "We conclude that x_0 - x_1 > 0 for all 2 <= n < 1/2+E\n"
     ]
    }
   ],
   "source": [
    "uu_rewritten = ((b+c-a)*m-sqrt(((b+c-a)*m)^2+(a^2*m^2-(b-c)^2)*(m^2-1)))/(m^3-m)\n",
    "C = (b-c)+(2*b-a)*m\n",
    "D = (a*m^2-(b+c))^2+4*b*c*(m^2-1)\n",
    "print 'We define C = ', C(m=n), ', and D = ', D(m=n)\n",
    "x0subx1 = ((b-c)+(2*b-a)*m - sqrt((a*m^2-(b+c))^2+4*b*c*(m^2-1)))/(m^2+m)\n",
    "print 'u == u_rewritten', (uu-uu_rewritten).is_zero()\n",
    "print 'x_0 - x_1 == (C-sqrt(D))/(n^2+n)', (xx(0)-xx(1)-(C-sqrt(D))/(m^2+m))(u=uu,v=vv).is_zero()\n",
    "DC = ((D-C^2)/m).simplify_full()\n",
    "print 'x_0 - x_1 > 0 is equivalent to (D-C^2)/n < 0', '(D-C^2)/n=', DC(m=n)\n",
    "E = sqrt((4*b-a)^2-8*(2*b-a)*c)/(2*a)\n",
    "print 'Let E=', E\n",
    "print '(D-C^2)/n has zeros n=1/2-E, n=-1, n=1/2+E', (DC(m=1/2-E).is_zero(), DC(m=-1).is_zero(), DC(m=1/2+E).is_zero())\n",
    "print 'Because 1/2+E > n >= 2 we have n >= 2 > 1/2-E, so n is between the second and third root of (D-C^2)/n'\n",
    "print 'We conclude that x_0 - x_1 > 0 for all 2 <= n < 1/2+E'"
   ]
  },
  {
   "cell_type": "markdown",
   "metadata": {
    "collapsed": false
   },
   "source": [
    "Next we check that $x_n-1 - x_n <= a$ for $n >= \\max(2, (b-c)/a)$, again by rewriting the equations."
   ]
  },
  {
   "cell_type": "code",
   "execution_count": 5,
   "metadata": {
    "collapsed": false
   },
   "outputs": [
    {
     "name": "stdout",
     "output_type": "stream",
     "text": [
      "x_n-1 - x_n <= a is for n > 1 equivalent to sqrt(a^2*n^4 - 2*(a*b + (a - 2*b)*c)*n^2 + b^2 - 2*b*c + c^2) <= a*n^2 + 2*c*n - b + c\n",
      "Using that n<=(b-c)/a and b+c >= 2 >= a the right hand side is non-negative, so we can square both sides. Further rewriting gives us\n",
      "the equivalent statement -a*n + b - c <= 0 and we can conclude.\n"
     ]
    }
   ],
   "source": [
    "xmsub = ((a - 2*c)*m + b - c + sqrt(a^2*m^4 - 2*(a*b + (a - 2*b)*c)*m^2 + b^2 - 2*b*c + c^2))/(m^2 + m)\n",
    "eq = (xmsub <= a)\n",
    "eq2 = (eq * (m^2+m) - ((a-2*c)*m+b-c))\n",
    "print 'x_n-1 - x_n <= a is for n > 1 equivalent to', eq2.left().simplify_full()(m=n), '<=', eq2.right().simplify_full()(m=n)\n",
    "print 'Using that n<=(b-c)/a and b+c >= 2 >= a the right hand side is non-negative, so we can square both sides. Further rewriting gives us'\n",
    "eq3 = ((eq2)^2 - ((m^2 + m)*a - (a - 2*c)*m - b + c)^2)/(m*(m+1)*4*c)\n",
    "print 'the equivalent statement', eq3.left().simplify_full()(m=n), '<=', eq3.right(), 'and we can conclude.'"
   ]
  },
  {
   "cell_type": "markdown",
   "metadata": {
    "collapsed": false
   },
   "source": [
    "# Theorem (Optimal arbitrary-length paths)\n",
    "The case $i < k-n$ is easily verified"
   ]
  },
  {
   "cell_type": "code",
   "execution_count": 6,
   "metadata": {
    "collapsed": false
   },
   "outputs": [
    {
     "name": "stdout",
     "output_type": "stream",
     "text": [
      "d/dy (logp(x,y)+logp(y,z))(x=b,y=b,z=b) == -(a-1)/(2*b) True\n"
     ]
    }
   ],
   "source": [
    "print 'd/dy (logp(x,y)+logp(y,z))(x=b,y=b,z=b) == -(a-1)/(2*b)',(dlydy(x=b,y=b,z=b) - (-(a-1)/(2*b)))(b=a^2/(4*a-4)).is_zero()"
   ]
  },
  {
   "cell_type": "markdown",
   "metadata": {
    "collapsed": false
   },
   "source": [
    "For the case i = k-n we first show that $y_0 - y_1 <= a^2/(2b-a)$."
   ]
  },
  {
   "cell_type": "code",
   "execution_count": 7,
   "metadata": {
    "collapsed": false
   },
   "outputs": [
    {
     "name": "stdout",
     "output_type": "stream",
     "text": [
      "We define X =  -a^2/(a - 2*b) , and Y =  m^2 + m\n",
      "y_0-y_1 = (C-sqrt(D))/Y <= X is equivalent to (C-XY)^2 <= D\n",
      "(C-XY)^2-D = 4*((a^3*b - a^2*b^2)*m^4 + 2*(a^3*b - a^2*b^2)*m^3 + (a^3*b + a^2*b^2 - 6*a*b^3 + 4*b^4 - 2*(a^2*b - 3*a*b^2 + 2*b^3)*c)*m^2 + 2*(a^2*b^2 - 3*a*b^3 + 2*b^4 - (a^2*b - 3*a*b^2 + 2*b^3)*c)*m)/(a^2 - 4*a*b + 4*b^2)\n",
      "(C-XY)^2-D is of degree 4 and has roots -1/2-E, -1,0, -1/2+E True True True"
     ]
    },
    {
     "name": "stdout",
     "output_type": "stream",
     "text": [
      " True\n",
      "If n>=2 and n>=-1/2+E, than n is larger than all roots, so (C-XY)^2-D<=0 because the leading coeff is negative and we can conclude.\n"
     ]
    }
   ],
   "source": [
    "Y=m^2+m\n",
    "X=a^2/(2*b-a)\n",
    "print 'We define X = ', X, ', and Y = ', Y\n",
    "print 'y_0-y_1 = (C-sqrt(D))/Y <= X is equivalent to (C-XY)^2 <= D'\n",
    "df = ((C-X*Y)^2-D).simplify_full()\n",
    "print '(C-XY)^2-D =', df\n",
    "print '(C-XY)^2-D is of degree 4 and has roots -1/2-E, -1,0, -1/2+E', df(m=-1/2-E).is_zero(), df(m=-1).is_zero(), df(m=0).is_zero(), df(m=-1/2+E).is_zero()\n",
    "print 'If n>=2 and n>=-1/2+E, than n is larger than all roots, so (C-XY)^2-D<=0 because the leading coeff is negative and we can conclude.'"
   ]
  },
  {
   "cell_type": "markdown",
   "metadata": {
    "collapsed": false
   },
   "source": [
    "Now we show that $d := y_0-y_1 \\leq \\min(a^2/(2b-a), b-1)$ is sufficient to show that the partial derivative at $i=n-k$ is non-positive."
   ]
  },
  {
   "cell_type": "code",
   "execution_count": 8,
   "metadata": {
    "collapsed": false
   },
   "outputs": [
    {
     "name": "stdout",
     "output_type": "stream",
     "text": [
      "We want to show that d/dy (logp(x,y)+logp(y,z))(x=b,y=b,z=b-d) <= 0 for d <= min(X, b-1)\n",
      "We have d/dy (logp(x,y)+logp(y,z))(x=b,y=b,z=b-d) = F/G with\n",
      "F= -2*a^4 + 4*a^3 + (a^3 - 4*a^2 + 5*a - 2)*d^2 - 2*a^2 + (2*a^4 - 7*a^3 + 9*a^2 - 4*a)*d\n",
      "G= a^4 - (a^3 - a^2)*d^2 - 2*(a^4 - a^3)*d\n",
      "True\n",
      "We first show that G > 0. Note that G is decreasing in d>0.\n",
      "If a < 4/3, then b>a and thus d <= a^2/(2*b-a) < a^2/(2*a-a) = a.\n",
      "We get G >= G(d=a) > 0 in the interval [a > 0, a < (4/3)]\n",
      "If a >= 4/3, then b<=4/3 and thus d <= b-1 <= 1/3. \n",
      "We get G >= G(d=1/3) > 0 in the interval [a > 0]\n",
      "Note that F is of degree 2 with roots X and a/(a-1) True"
     ]
    },
    {
     "name": "stdout",
     "output_type": "stream",
     "text": [
      " True\n",
      "F has leading coefficient (a^3 - 4*a^2 + 5*a - 2) which is negative in the interval [a > 1, a < 2]\n",
      "As d <= min(X, b-1) <= min(X, a/(a-1)) is smaller than both roots in the interval [a > 1, a < 2*sqrt(3) + 4] we have F(d) <= 0 and we can conclude.\n"
     ]
    }
   ],
   "source": [
    "print('We want to show that d/dy (logp(x,y)+logp(y,z))(x=b,y=b,z=b-d) <= 0 for d <= min(X, b-1)')\n",
    "F = -(2*a^4 - 4*a^3 - (a^3 - 4*a^2 + 5*a - 2)*d^2 + 2*a^2 - (2*a^4 - 7*a^3 + 9*a^2 - 4*a)*d)\n",
    "G = (a^4 - (a^3 - a^2)*d^2 - 2*(a^4 - a^3)*d)\n",
    "print 'We have d/dy (logp(x,y)+logp(y,z))(x=b,y=b,z=b-d) = F/G with'\n",
    "print 'F=', F\n",
    "print 'G=', G\n",
    "print (dlydy(x=b,y=b,z=b-d)(b=a^2/(4*a-4)).simplify_full()-F/G).is_zero()\n",
    "print 'We first show that G > 0. Note that G is decreasing in d>0.'\n",
    "print 'If a < 4/3, then b>a and thus d <= a^2/(2*b-a) < a^2/(2*a-a) = a.'\n",
    "print 'We get G >= G(d=a) > 0 in the interval', solve([G(d=a)>0], a)[1]\n",
    "print 'If a >= 4/3, then b<=4/3 and thus d <= b-1 <= 1/3. '\n",
    "print 'We get G >= G(d=1/3) > 0 in the interval', solve([G(d=1/3)>0], a)[2]\n",
    "print 'Note that F is of degree 2 with roots X and a/(a-1)', F(d=X)(b=a^2/(4*a-4)).is_zero(), F(d=a/(a-1)).is_zero()\n",
    "print 'F has leading coefficient (a^3 - 4*a^2 + 5*a - 2) which is negative in the interval', solve([(a^3 - 4*a^2 + 5*a - 2)<0],a)[1]\n",
    "print 'As d <= min(X, b-1) <= min(X, a/(a-1)) is smaller than both roots in the interval', solve([a^2/(4*a-4)-1 < a/(a-1)], a)[1],'we have F(d) <= 0 and we can conclude.'"
   ]
  },
  {
   "cell_type": "markdown",
   "metadata": {
    "collapsed": false
   },
   "source": [
    "# Proposition (Low-memory asymptotics)"
   ]
  },
  {
   "cell_type": "code",
   "execution_count": 9,
   "metadata": {
    "collapsed": false
   },
   "outputs": [
    {
     "name": "stdout",
     "output_type": "stream",
     "text": [
      "asymptotic cost with c=1 as a=1+eps for eps = 1/z -> 0.\n",
      "n - 1/(2*eps) + O(1) =  O(1)\n",
      "So (a/(2-a))^n = ((1+eps)/(1-eps))^(1/(2*eps)) = e + O(eps)\n",
      "1-(2*n*(a-1))/(2-a) - 2*eps + O(eps^2) = "
     ]
    },
    {
     "name": "stdout",
     "output_type": "stream",
     "text": [
      " O(z^(-2))\n",
      "So success probability ~(2*e*eps)^(d/2)\n"
     ]
    }
   ],
   "source": [
    "A.<z> = AsymptoticRing(growth_group='z^QQ', coefficient_ring=ZZ);\n",
    "a = 1+1/z\n",
    "b = a^2/(4*a-4)\n",
    "n = -1/2 + sqrt((4*b-a)^2-8*(2*b-a))/(2*a)\n",
    "print'asymptotic cost with c=1 as a=1+eps for eps = 1/z -> 0.'\n",
    "print'n - 1/(2*eps) + O(1) = ', n - 1/2*z + O(z^0)\n",
    "print'So (a/(2-a))^n = ((1+eps)/(1-eps))^(1/(2*eps)) = e + O(eps)'\n",
    "print'1-(2*n*(a-1))/(2-a) - 2*eps + O(eps^2) = ', (1-(2*n*(a-1))/(2-a)) - 2/z + O(1/z^2)\n",
    "print'So success probability ~(2*e*eps)^(d/2)'"
   ]
  },
  {
   "cell_type": "code",
   "execution_count": 0,
   "metadata": {
    "collapsed": false
   },
   "outputs": [
   ],
   "source": [
   ]
  }
 ],
 "metadata": {
  "kernelspec": {
   "display_name": "SageMath (stable)",
   "language": "sagemath",
   "metadata": {
    "cocalc": {
     "description": "Open-source mathematical software system",
     "priority": 10,
     "url": "https://www.sagemath.org/"
    }
   },
   "name": "sagemath"
  },
  "language_info": {
   "codemirror_mode": {
    "name": "ipython",
    "version": 2
   },
   "file_extension": ".py",
   "mimetype": "text/x-python",
   "name": "python",
   "nbconvert_exporter": "python",
   "pygments_lexer": "ipython2",
   "version": "2.7.15"
  }
 },
 "nbformat": 4,
 "nbformat_minor": 0
}